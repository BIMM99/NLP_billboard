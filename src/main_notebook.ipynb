{
 "cells": [
  {
   "cell_type": "markdown",
   "metadata": {},
   "source": [
    "# NLP project - Analyzing billboard lyrics"
   ]
  },
  {
   "cell_type": "markdown",
   "metadata": {},
   "source": [
    "This work aims at analyzing the lyrics of all __Top 100__ year billboard songs from 1957 to 2023:\n",
    "1) Setup the data and some scrapping to gather more info about the songs\n",
    "2) Topic modelling \n",
    "3) Song classification into the different scrapped \"groups\"\n",
    "\n",
    "You can find the dataset on Kaggle ([here](https://www.kaggle.com/datasets/brianblakely/top-100-songs-and-lyrics-from-1959-to-2019))."
   ]
  },
  {
   "cell_type": "markdown",
   "metadata": {},
   "source": [
    "## 0. Setting-up our env (packages, data...)"
   ]
  },
  {
   "cell_type": "code",
   "execution_count": 1,
   "metadata": {},
   "outputs": [
    {
     "name": "stderr",
     "output_type": "stream",
     "text": [
      "/Library/Frameworks/Python.framework/Versions/3.12/lib/python3.12/site-packages/transformers/utils/generic.py:441: UserWarning: torch.utils._pytree._register_pytree_node is deprecated. Please use torch.utils._pytree.register_pytree_node instead.\n",
      "  _torch_pytree._register_pytree_node(\n"
     ]
    }
   ],
   "source": [
    "import re\n",
    "\n",
    "import pandas as pd\n",
    "import matplotlib.pyplot as plt\n",
    "import seaborn as sns\n",
    "from scipy.stats import skew, chi2_contingency\n",
    "from sklearn.feature_extraction.text import TfidfVectorizer\n",
    "from sklearn.model_selection import train_test_split, GridSearchCV, RandomizedSearchCV\n",
    "from sklearn.pipeline import Pipeline\n",
    "from sklearn.metrics import confusion_matrix, accuracy_score\n",
    "from sklearn.svm import SVC\n",
    "from sklearn.preprocessing import LabelEncoder\n",
    "from sklearn.ensemble import AdaBoostClassifier\n",
    "from xgboost import XGBClassifier\n",
    "\n",
    "import textacy\n",
    "import textacy.preprocessing as tprep\n",
    "import spacy\n",
    "from gensim.corpora import Dictionary\n",
    "from gensim.models import TfidfModel, LdaModel\n",
    "from gensim.models.nmf import Nmf\n",
    "from gensim.models.coherencemodel import CoherenceModel\n",
    "\n",
    "from sentence_transformers import SentenceTransformer"
   ]
  },
  {
   "cell_type": "markdown",
   "metadata": {},
   "source": [
    "To use Spacy's tokernizer, it is mandatory to download first the english \"model\" (but can also be other language depending on the case):\n",
    "```python\n",
    "from spacy.cli import download\n",
    "print(download('en_core_web_sm'))\n",
    "```"
   ]
  },
  {
   "cell_type": "markdown",
   "metadata": {},
   "source": [
    "### importing dataset"
   ]
  },
  {
   "cell_type": "markdown",
   "metadata": {},
   "source": [
    "You can find this dataset on Kaggle [here](https://www.kaggle.com/datasets/brianblakely/top-100-songs-and-lyrics-from-1959-to-2019). It is composed of all __Top 100__ year billboard songs from 1957 to 2023. "
   ]
  },
  {
   "cell_type": "code",
   "execution_count": 2,
   "metadata": {},
   "outputs": [],
   "source": [
    "# Read the data into a pandas DataFrame\n",
    "song_data = pd.read_csv(\"./data/all_songs_data_raw.csv\")"
   ]
  },
  {
   "cell_type": "markdown",
   "metadata": {},
   "source": [
    "### overview of the raw data"
   ]
  },
  {
   "cell_type": "code",
   "execution_count": 3,
   "metadata": {},
   "outputs": [
    {
     "name": "stdout",
     "output_type": "stream",
     "text": [
      "<class 'pandas.core.frame.DataFrame'>\n",
      "RangeIndex: 6500 entries, 0 to 6499\n",
      "Data columns (total 12 columns):\n",
      " #   Column            Non-Null Count  Dtype  \n",
      "---  ------            --------------  -----  \n",
      " 0   Album             6036 non-null   object \n",
      " 1   Album URL         6036 non-null   object \n",
      " 2   Artist            6500 non-null   object \n",
      " 3   Featured Artists  6384 non-null   object \n",
      " 4   Lyrics            6384 non-null   object \n",
      " 5   Media             6384 non-null   object \n",
      " 6   Rank              6500 non-null   int64  \n",
      " 7   Release Date      4563 non-null   object \n",
      " 8   Song Title        6500 non-null   object \n",
      " 9   Song URL          6384 non-null   object \n",
      " 10  Writers           6384 non-null   object \n",
      " 11  Year              6500 non-null   float64\n",
      "dtypes: float64(1), int64(1), object(10)\n",
      "memory usage: 609.5+ KB\n"
     ]
    }
   ],
   "source": [
    "song_data.info()"
   ]
  },
  {
   "cell_type": "code",
   "execution_count": 4,
   "metadata": {},
   "outputs": [
    {
     "data": {
      "text/html": [
       "<div>\n",
       "<style scoped>\n",
       "    .dataframe tbody tr th:only-of-type {\n",
       "        vertical-align: middle;\n",
       "    }\n",
       "\n",
       "    .dataframe tbody tr th {\n",
       "        vertical-align: top;\n",
       "    }\n",
       "\n",
       "    .dataframe thead th {\n",
       "        text-align: right;\n",
       "    }\n",
       "</style>\n",
       "<table border=\"1\" class=\"dataframe\">\n",
       "  <thead>\n",
       "    <tr style=\"text-align: right;\">\n",
       "      <th></th>\n",
       "      <th>Album</th>\n",
       "      <th>Album URL</th>\n",
       "      <th>Artist</th>\n",
       "      <th>Featured Artists</th>\n",
       "      <th>Lyrics</th>\n",
       "      <th>Media</th>\n",
       "      <th>Rank</th>\n",
       "      <th>Release Date</th>\n",
       "      <th>Song Title</th>\n",
       "      <th>Song URL</th>\n",
       "      <th>Writers</th>\n",
       "      <th>Year</th>\n",
       "    </tr>\n",
       "  </thead>\n",
       "  <tbody>\n",
       "    <tr>\n",
       "      <th>5359</th>\n",
       "      <td>Sweeter</td>\n",
       "      <td>https://genius.com/albums/Gavin-degraw/Sweeter</td>\n",
       "      <td>Gavin DeGraw</td>\n",
       "      <td>[]</td>\n",
       "      <td>[Verse 1] Dreams: that's where I have to go To...</td>\n",
       "      <td>[{'provider': 'youtube', 'start': 0, 'type': '...</td>\n",
       "      <td>60</td>\n",
       "      <td>2011-05-17</td>\n",
       "      <td>Not Over You</td>\n",
       "      <td>https://genius.com/Gavin-degraw-not-over-you-l...</td>\n",
       "      <td>[{'api_path': '/artists/17412', 'header_image_...</td>\n",
       "      <td>2012.0</td>\n",
       "    </tr>\n",
       "    <tr>\n",
       "      <th>4152</th>\n",
       "      <td>Welcome II Nextasy</td>\n",
       "      <td>https://genius.com/albums/Next/Welcome-ii-nextasy</td>\n",
       "      <td>Next</td>\n",
       "      <td>[]</td>\n",
       "      <td>[Hook: R.L.] You never try me Always stood rig...</td>\n",
       "      <td>[{'native_uri': 'spotify:track:3NEzjZbeSCy72Kx...</td>\n",
       "      <td>53</td>\n",
       "      <td>2000-05-16</td>\n",
       "      <td>Wifey</td>\n",
       "      <td>https://genius.com/Next-wifey-lyrics</td>\n",
       "      <td>[{'api_path': '/artists/8450', 'header_image_u...</td>\n",
       "      <td>2000.0</td>\n",
       "    </tr>\n",
       "    <tr>\n",
       "      <th>3458</th>\n",
       "      <td>Portrait</td>\n",
       "      <td>https://genius.com/albums/Portrait-r-b/Portrait</td>\n",
       "      <td>Portrait</td>\n",
       "      <td>[]</td>\n",
       "      <td>(Chuck D: Here we go again)  [Verse 1] Well, I...</td>\n",
       "      <td>[{'native_uri': 'spotify:track:5rIr1MOh4cWwpdl...</td>\n",
       "      <td>59</td>\n",
       "      <td>1992-10-12</td>\n",
       "      <td>Here We Go Again!</td>\n",
       "      <td>https://genius.com/Portrait-r-b-here-we-go-aga...</td>\n",
       "      <td>[{'api_path': '/artists/998524', 'header_image...</td>\n",
       "      <td>1993.0</td>\n",
       "    </tr>\n",
       "    <tr>\n",
       "      <th>4273</th>\n",
       "      <td>Lil’ Romeo</td>\n",
       "      <td>https://genius.com/albums/Romeo/Lil-romeo</td>\n",
       "      <td>Lil' Romeo</td>\n",
       "      <td>[{'api_path': '/artists/3525', 'header_image_u...</td>\n",
       "      <td>[Deejay] Hotline [Caller] Can I request a song...</td>\n",
       "      <td>[{'native_uri': 'spotify:track:0s9A4pUBLw68E76...</td>\n",
       "      <td>74</td>\n",
       "      <td>2001-04-13</td>\n",
       "      <td>My Baby</td>\n",
       "      <td>https://genius.com/Romeo-my-baby-lyrics</td>\n",
       "      <td>[{'api_path': '/artists/673949', 'header_image...</td>\n",
       "      <td>2001.0</td>\n",
       "    </tr>\n",
       "  </tbody>\n",
       "</table>\n",
       "</div>"
      ],
      "text/plain": [
       "                   Album                                          Album URL  \\\n",
       "5359             Sweeter     https://genius.com/albums/Gavin-degraw/Sweeter   \n",
       "4152  Welcome II Nextasy  https://genius.com/albums/Next/Welcome-ii-nextasy   \n",
       "3458            Portrait    https://genius.com/albums/Portrait-r-b/Portrait   \n",
       "4273          Lil’ Romeo          https://genius.com/albums/Romeo/Lil-romeo   \n",
       "\n",
       "            Artist                                   Featured Artists  \\\n",
       "5359  Gavin DeGraw                                                 []   \n",
       "4152          Next                                                 []   \n",
       "3458      Portrait                                                 []   \n",
       "4273    Lil' Romeo  [{'api_path': '/artists/3525', 'header_image_u...   \n",
       "\n",
       "                                                 Lyrics  \\\n",
       "5359  [Verse 1] Dreams: that's where I have to go To...   \n",
       "4152  [Hook: R.L.] You never try me Always stood rig...   \n",
       "3458  (Chuck D: Here we go again)  [Verse 1] Well, I...   \n",
       "4273  [Deejay] Hotline [Caller] Can I request a song...   \n",
       "\n",
       "                                                  Media  Rank Release Date  \\\n",
       "5359  [{'provider': 'youtube', 'start': 0, 'type': '...    60   2011-05-17   \n",
       "4152  [{'native_uri': 'spotify:track:3NEzjZbeSCy72Kx...    53   2000-05-16   \n",
       "3458  [{'native_uri': 'spotify:track:5rIr1MOh4cWwpdl...    59   1992-10-12   \n",
       "4273  [{'native_uri': 'spotify:track:0s9A4pUBLw68E76...    74   2001-04-13   \n",
       "\n",
       "             Song Title                                           Song URL  \\\n",
       "5359       Not Over You  https://genius.com/Gavin-degraw-not-over-you-l...   \n",
       "4152              Wifey               https://genius.com/Next-wifey-lyrics   \n",
       "3458  Here We Go Again!  https://genius.com/Portrait-r-b-here-we-go-aga...   \n",
       "4273            My Baby            https://genius.com/Romeo-my-baby-lyrics   \n",
       "\n",
       "                                                Writers    Year  \n",
       "5359  [{'api_path': '/artists/17412', 'header_image_...  2012.0  \n",
       "4152  [{'api_path': '/artists/8450', 'header_image_u...  2000.0  \n",
       "3458  [{'api_path': '/artists/998524', 'header_image...  1993.0  \n",
       "4273  [{'api_path': '/artists/673949', 'header_image...  2001.0  "
      ]
     },
     "execution_count": 4,
     "metadata": {},
     "output_type": "execute_result"
    }
   ],
   "source": [
    "# check few rows of the data to understand the structure\n",
    "song_data.sample(4)"
   ]
  },
  {
   "cell_type": "markdown",
   "metadata": {},
   "source": [
    "The main interest variable in this work is \"Lyrics\" one but we want to do supervised learning on it, so labels are required. In our case, the data seems rich but it is not labelled in an interesting way (except maybe year). To get some informative labels, we will webscrap (which is not very legal...) the [Genius](https://genius.com/) website to gather information regading the music tags. We did it that was as the link to the genius lyrics page is included in most observations. "
   ]
  },
  {
   "cell_type": "markdown",
   "metadata": {},
   "source": [
    "### some scrapping"
   ]
  },
  {
   "cell_type": "markdown",
   "metadata": {},
   "source": [
    "This function allows to extract the data from Genius. We run it on each row.\n",
    "\n",
    "```python\n",
    "def get_genius_tag(url: str, number_tags: int = 1) -> list[str]:\n",
    "    \"\"\"\n",
    "    WEBSCRAPING IS INVOLVED, IT'S NOT VERY LEGAL AND THE FUNCTION MIGHT BREAK IN THE FUTURE.\n",
    "    get_genius_tag: Get the tags of a song from the Genius website. \n",
    "    :param url: The URL of the song on Genius.\n",
    "    :param number_tags: The number of tags to get.\n",
    "    \"\"\"\n",
    "    response = requests.get(url)\n",
    "    soup = BeautifulSoup(response.text, \"html.parser\")\n",
    "    finder = soup.find(\"div\", class_=\"SongTags__Title-xixwg3-0 ceKRFE\")\n",
    "    tags = []\n",
    "    if finder is None:\n",
    "        return tags\n",
    "    \n",
    "    tag_finder = finder\n",
    "    \n",
    "    for i in range(number_tags):\n",
    "        tag_finder = tag_finder.find_next(\"a\")\n",
    "        tags.append(tag_finder.text)\n",
    "    \n",
    "    return list(filter(None, tags))\n",
    "```\n",
    "\n",
    "However, it is a very time and ressource consuming process (roughly 3 hours for the whole dataset) so for this notebook, we import the processed data with the genius tags we have collected before (_cf_ `src/prep_n_scrap.py` for details). Most songs do have a tag as we can see below."
   ]
  },
  {
   "cell_type": "code",
   "execution_count": 5,
   "metadata": {},
   "outputs": [
    {
     "data": {
      "text/plain": [
       "tags\n",
       "Pop          2711\n",
       "Rock         1266\n",
       "R&B          1217\n",
       "Rap           637\n",
       "Country       402\n",
       "Non-Music      92\n",
       "Name: count, dtype: int64"
      ]
     },
     "execution_count": 5,
     "metadata": {},
     "output_type": "execute_result"
    }
   ],
   "source": [
    "song_data_label = pd.read_csv(\"./data/all_songs_data_label.csv\")\n",
    "song_data_label.tags.value_counts()"
   ]
  },
  {
   "cell_type": "markdown",
   "metadata": {},
   "source": [
    "We exclude the useless variables and the missing data on our variables of interesst (`lyrics` and `tags`)."
   ]
  },
  {
   "cell_type": "code",
   "execution_count": 6,
   "metadata": {},
   "outputs": [],
   "source": [
    "song_data_short = song_data_label[[\"id\", \"title\", \"artist\", \"tags\", \"lyrics\", \"rank\", \"year\"]].copy()\n",
    "song_data_short = song_data_short[song_data_short.tags.notnull() & song_data_short.lyrics.notnull()]"
   ]
  },
  {
   "cell_type": "markdown",
   "metadata": {},
   "source": [
    "To hightlight the following processes on out textual data, we selected a sample of 5 songs:"
   ]
  },
  {
   "cell_type": "code",
   "execution_count": 7,
   "metadata": {},
   "outputs": [
    {
     "data": {
      "text/html": [
       "<div>\n",
       "<style scoped>\n",
       "    .dataframe tbody tr th:only-of-type {\n",
       "        vertical-align: middle;\n",
       "    }\n",
       "\n",
       "    .dataframe tbody tr th {\n",
       "        vertical-align: top;\n",
       "    }\n",
       "\n",
       "    .dataframe thead th {\n",
       "        text-align: right;\n",
       "    }\n",
       "</style>\n",
       "<table border=\"1\" class=\"dataframe\">\n",
       "  <thead>\n",
       "    <tr style=\"text-align: right;\">\n",
       "      <th></th>\n",
       "      <th>title</th>\n",
       "      <th>tags</th>\n",
       "      <th>artist</th>\n",
       "    </tr>\n",
       "  </thead>\n",
       "  <tbody>\n",
       "    <tr>\n",
       "      <th>4961</th>\n",
       "      <td>Hate That I Love You</td>\n",
       "      <td>Pop</td>\n",
       "      <td>Rihanna feat. Ne-Yo</td>\n",
       "    </tr>\n",
       "    <tr>\n",
       "      <th>6246</th>\n",
       "      <td>Wants and Needs</td>\n",
       "      <td>Rap</td>\n",
       "      <td>Drake featuring Lil Baby</td>\n",
       "    </tr>\n",
       "    <tr>\n",
       "      <th>6277</th>\n",
       "      <td>All I Want for Christmas Is You</td>\n",
       "      <td>R&amp;B</td>\n",
       "      <td>Mariah Carey</td>\n",
       "    </tr>\n",
       "    <tr>\n",
       "      <th>284</th>\n",
       "      <td>Tonight My Love, Tonight</td>\n",
       "      <td>Pop</td>\n",
       "      <td>Paul Anka</td>\n",
       "    </tr>\n",
       "    <tr>\n",
       "      <th>4583</th>\n",
       "      <td>Southside</td>\n",
       "      <td>R&amp;B</td>\n",
       "      <td>Lloyd feat. Ashanti</td>\n",
       "    </tr>\n",
       "  </tbody>\n",
       "</table>\n",
       "</div>"
      ],
      "text/plain": [
       "                                title tags                    artist\n",
       "4961             Hate That I Love You  Pop       Rihanna feat. Ne-Yo\n",
       "6246                  Wants and Needs  Rap  Drake featuring Lil Baby\n",
       "6277  All I Want for Christmas Is You  R&B              Mariah Carey\n",
       "284          Tonight My Love, Tonight  Pop                 Paul Anka\n",
       "4583                        Southside  R&B       Lloyd feat. Ashanti"
      ]
     },
     "execution_count": 7,
     "metadata": {},
     "output_type": "execute_result"
    }
   ],
   "source": [
    "song_data_short[[\"title\", \"tags\", \"artist\"]].sample(5, random_state=1999)"
   ]
  },
  {
   "cell_type": "code",
   "execution_count": 8,
   "metadata": {},
   "outputs": [
    {
     "data": {
      "text/plain": [
       "4961    [Intro: Rihanna & Ne-Yo] Yeah, yeah Yeah, yeah...\n",
       "6246    (Six) Yeah Yeah Yeah  [Verse 1: Drake] Leave m...\n",
       "6277    I don't want a lot for Christmas There is just...\n",
       "284     La-la-la-la-la-la La-la-la-la-la-la Let me hol...\n",
       "4583    [Verse 1: Lloyd] Tell ya daddy stop his hating...\n",
       "Name: lyrics, dtype: object"
      ]
     },
     "execution_count": 8,
     "metadata": {},
     "output_type": "execute_result"
    }
   ],
   "source": [
    "song_data_short.lyrics.sample(5, random_state=1999)"
   ]
  },
  {
   "cell_type": "markdown",
   "metadata": {},
   "source": [
    "## 1. Preparing our data"
   ]
  },
  {
   "cell_type": "markdown",
   "metadata": {},
   "source": [
    "### exclude bracketed informations"
   ]
  },
  {
   "cell_type": "markdown",
   "metadata": {},
   "source": [
    "As we can see above, lyrics in Genius often include comments about who is singing a part, if it's a chorus... So our fist mission is to exclude them as they do not convey information regarding the meaning of the song."
   ]
  },
  {
   "cell_type": "code",
   "execution_count": 9,
   "metadata": {},
   "outputs": [
    {
     "data": {
      "text/plain": [
       "4961     Yeah, yeah Yeah, yeah That's how much I love ...\n",
       "6246    (Six) Yeah Yeah Yeah   Leave me out the commen...\n",
       "6277    I don't want a lot for Christmas There is just...\n",
       "284     La-la-la-la-la-la La-la-la-la-la-la Let me hol...\n",
       "4583     Tell ya daddy stop his hating Cause I be wear...\n",
       "Name: lyrics_wo_brack, dtype: object"
      ]
     },
     "execution_count": 9,
     "metadata": {},
     "output_type": "execute_result"
    }
   ],
   "source": [
    "song_data_short['lyrics_wo_brack'] = song_data_short['lyrics'].apply(lambda x: re.sub(r'\\[.*?\\]', '', x))\n",
    "\n",
    "song_data_short['lyrics_wo_brack'].sample(5, random_state=1999)"
   ]
  },
  {
   "cell_type": "markdown",
   "metadata": {},
   "source": [
    "### apply a fairly common preparatory pipeline"
   ]
  },
  {
   "cell_type": "markdown",
   "metadata": {},
   "source": [
    "Then, a common practice in text analysis is to normalize text and to lower the caracters. `textacy` is an excellent and easy to use library for that purpose, so let's use it. We will remove or normalize URLs, HTML tags, accents, quotation marks and punctuation."
   ]
  },
  {
   "cell_type": "code",
   "execution_count": 10,
   "metadata": {},
   "outputs": [
    {
     "data": {
      "text/plain": [
       "4961    yeah yeah yeah yeah that s how much i love you...\n",
       "6246    six yeah yeah yeah leave me out the comments l...\n",
       "6277    i don t want a lot for christmas there is just...\n",
       "284     la la la la la la la la la la la la let me hol...\n",
       "4583    tell ya daddy stop his hating cause i be weari...\n",
       "Name: lyrics_preproc, dtype: object"
      ]
     },
     "execution_count": 10,
     "metadata": {},
     "output_type": "execute_result"
    }
   ],
   "source": [
    "preproc = tprep.make_pipeline(tprep.replace.urls,\n",
    "                              tprep.remove.html_tags,\n",
    "                              tprep.normalize.hyphenated_words,\n",
    "                              tprep.normalize.quotation_marks,\n",
    "                              tprep.normalize.unicode,\n",
    "                              tprep.remove.accents,\n",
    "                              tprep.remove.punctuation,\n",
    "                              tprep.normalize.whitespace,\n",
    "                              tprep.replace.numbers)\n",
    "\n",
    "song_data_short['lyrics_preproc'] = song_data_short['lyrics_wo_brack'].apply(preproc).str.lower()\n",
    "\n",
    "song_data_short['lyrics_preproc'].sample(5, random_state=1999)"
   ]
  },
  {
   "cell_type": "markdown",
   "metadata": {},
   "source": [
    "As shown above, the output looks way nicer."
   ]
  },
  {
   "cell_type": "markdown",
   "metadata": {},
   "source": [
    "### tokenize our lyrics"
   ]
  },
  {
   "cell_type": "markdown",
   "metadata": {},
   "source": [
    "An other important step in text analysis is to tokenize the text. Tokenization is the process of splitting the text into individual words or phrases. In this case, we will use the `SpaCy` library to tokenize the lyrics."
   ]
  },
  {
   "cell_type": "code",
   "execution_count": 11,
   "metadata": {},
   "outputs": [
    {
     "data": {
      "text/plain": [
       "4961    [yeah, yeah, yeah, yeah, that, s, how, much, i...\n",
       "6246    [six, yeah, yeah, yeah, leave, me, out, the, c...\n",
       "6277    [i, don, t, want, a, lot, for, christmas, ther...\n",
       "284     [la, la, la, la, la, la, la, la, la, la, la, l...\n",
       "4583    [tell, ya, daddy, stop, his, hating, cause, i,...\n",
       "Name: tokenized_lyrics, dtype: object"
      ]
     },
     "execution_count": 11,
     "metadata": {},
     "output_type": "execute_result"
    }
   ],
   "source": [
    "# Load the English tokenizer as a pipeline (excluding the other components)\n",
    "nlp = spacy.load(\"en_core_web_sm\", disable=[\"tagger\", \"parser\", \"ner\", \"attribute_ruler\", \"lemmatizer\"])\n",
    "\n",
    "song_data_short['tokenized_lyrics'] = song_data_short['lyrics_preproc'].apply(lambda x: [tok.text for tok in nlp.tokenizer(x)])\n",
    "\n",
    "song_data_short['tokenized_lyrics'].sample(5, random_state=1999)\n"
   ]
  },
  {
   "cell_type": "markdown",
   "metadata": {},
   "source": [
    "Each token has been splitted and we obtained a list of tokens for each song. However, it still has stopwords (set of commonly used words in a language) that could biais our study, so we need to remove them."
   ]
  },
  {
   "cell_type": "code",
   "execution_count": 12,
   "metadata": {},
   "outputs": [
    {
     "data": {
      "text/plain": [
       "4961    [yeah, yeah, yeah, yeah, s, love, yeah, s, nee...\n",
       "6246    [yeah, yeah, yeah, leave, comments, leave, non...\n",
       "6277    [don, t, want, lot, christmas, thing, need, do...\n",
       "284     [la, la, la, la, la, la, la, la, la, la, la, l...\n",
       "4583    [tell, ya, daddy, stop, hating, cause, wearing...\n",
       "Name: tokenized_lyrics_stopword, dtype: object"
      ]
     },
     "execution_count": 12,
     "metadata": {},
     "output_type": "execute_result"
    }
   ],
   "source": [
    "# getting the stopwords for english from spacy object\n",
    "stopwords_spa = nlp.Defaults.stop_words\n",
    "include_stopwords={'_NUMBER_'}\n",
    "stopwords_spa|= include_stopwords\n",
    "\n",
    "song_data_short['tokenized_lyrics_stopword'] = song_data_short['lyrics_preproc'].apply(lambda x: [tok.text for tok in nlp.tokenizer(x) if tok.text.lower() not in stopwords_spa])\n",
    "\n",
    "song_data_short['tokenized_lyrics_stopword'].sample(5, random_state=1999)"
   ]
  },
  {
   "cell_type": "markdown",
   "metadata": {},
   "source": [
    "### excluding some outliers"
   ]
  },
  {
   "cell_type": "markdown",
   "metadata": {},
   "source": [
    "As a last step, we want to remove outliers that might influence our studies. The main variable to analyze (the lyrics) is indeed highly skewed:"
   ]
  },
  {
   "cell_type": "code",
   "execution_count": 13,
   "metadata": {},
   "outputs": [
    {
     "name": "stdout",
     "output_type": "stream",
     "text": [
      "skewness : 26.927689181412013\n"
     ]
    }
   ],
   "source": [
    "nb_tokens = song_data_short['tokenized_lyrics'].apply(len)\n",
    "\n",
    "print(f\"skewness : {skew(nb_tokens)}\")"
   ]
  },
  {
   "cell_type": "markdown",
   "metadata": {},
   "source": [
    "Indeed, 125 observations (or more) have more that 1000 tokens (without stopwords). These are obviously outliers in our data that might influence our study. Arbitrarely we exclude all observations with more that 1000 tokens and those with less than 20 tokens."
   ]
  },
  {
   "cell_type": "code",
   "execution_count": 14,
   "metadata": {},
   "outputs": [
    {
     "data": {
      "text/plain": [
       "count      6325.000000\n",
       "mean        658.690119\n",
       "std        5112.511368\n",
       "min           0.000000\n",
       "1%           65.480000\n",
       "5%          137.000000\n",
       "10%         171.000000\n",
       "25%         234.000000\n",
       "50%         330.000000\n",
       "75%         470.000000\n",
       "90%         663.000000\n",
       "95%         801.800000\n",
       "97%         912.560000\n",
       "98%        1022.000000\n",
       "99%        3485.240000\n",
       "max      154776.000000\n",
       "Name: tokenized_lyrics, dtype: float64"
      ]
     },
     "execution_count": 14,
     "metadata": {},
     "output_type": "execute_result"
    }
   ],
   "source": [
    "nb_tokens.describe(percentiles=[0.01, 0.05, 0.1, 0.25, 0.5, 0.75, 0.9, 0.95, 0.97, 0.98, 0.99])"
   ]
  },
  {
   "cell_type": "code",
   "execution_count": 15,
   "metadata": {},
   "outputs": [],
   "source": [
    "song_data_short = song_data_short[nb_tokens.between(20, 1000)]"
   ]
  },
  {
   "cell_type": "markdown",
   "metadata": {},
   "source": [
    "Fuerthermore some songs have been various times in the billboard (like the famous \"All I Want for Christmas Is You\" by Mariah Carey), so we exclude these duplicates (keeping only the first occurence in time):"
   ]
  },
  {
   "cell_type": "code",
   "execution_count": 16,
   "metadata": {},
   "outputs": [],
   "source": [
    "song_data_short = song_data_short.sort_values(\"year\").drop_duplicates(subset=[\"title\", \"artist\"], keep=\"first\")"
   ]
  },
  {
   "cell_type": "markdown",
   "metadata": {},
   "source": [
    "So we get our cleaned lyrics data tokenized without stopwords and outliers. Our preprocessing pipeline stops here; we could have done other things to detect finer details in our lyrics (with lemmatization for instance) but it goes further than the scope of this project."
   ]
  },
  {
   "cell_type": "markdown",
   "metadata": {},
   "source": [
    "## 2. Descriptive analysis"
   ]
  },
  {
   "cell_type": "code",
   "execution_count": 17,
   "metadata": {},
   "outputs": [
    {
     "data": {
      "image/png": "[encoded data removed]",
      "text/plain": [
       "<Figure size 640x480 with 1 Axes>"
      ]
     },
     "metadata": {},
     "output_type": "display_data"
    }
   ],
   "source": [
    "grouped_data = song_data_short.groupby(['year', 'tags']).size().unstack(fill_value=0)\n",
    "\n",
    "plt.stackplot(grouped_data.index, grouped_data.values.T, labels=grouped_data.columns)\n",
    "plt.xlabel('Year')\n",
    "plt.ylabel('Number of Songs')\n",
    "plt.title('Evolution of song categories Over Time')\n",
    "plt.legend(loc='upper left', bbox_to_anchor=(1, 1), title='Category')\n",
    "# Set the color palette to Viridis\n",
    "sns.set_palette(\"viridis\")\n",
    "\n",
    "plt.show()\n"
   ]
  },
  {
   "cell_type": "markdown",
   "metadata": {},
   "source": [
    "This graph highlights well the evolutions of the music industry: \n",
    "- Pop is the main style overall\n",
    "- Rock had is \"golden era\" until the 80s but its share has reduced since\n",
    "- Rap is growing since the 80s\n",
    "\n",
    "N.B.: It should sum to 100 (as we have the 100 billboard for each year), but some labels could not be found. This scrapped data has also to be taken with precaution as labels might be more imprecise for old songs (Genius created in the internet era)."
   ]
  },
  {
   "cell_type": "markdown",
   "metadata": {},
   "source": [
    "## 3. Topic modelling"
   ]
  },
  {
   "cell_type": "markdown",
   "metadata": {},
   "source": [
    "The first thing we can do on our data is topic modelling. It is an unsupervised ML techniques that aims at creating groups of related texts within our data. Like \"centroid\" algorithm for quantitative data, it allow us to create groups within our corpus without having to label them first. To do some topic modelling, we will use the `gensim` library (`sklearn` also provides useful tools for topic modelling that are perfectly fine)."
   ]
  },
  {
   "cell_type": "markdown",
   "metadata": {},
   "source": [
    "### step 1 - creating bag of words from our data"
   ]
  },
  {
   "cell_type": "markdown",
   "metadata": {},
   "source": [
    "From our tokenized data we will create a dictionnary of all the words that are in the lyrics (after tokenization) with a unique ID."
   ]
  },
  {
   "cell_type": "code",
   "execution_count": 18,
   "metadata": {},
   "outputs": [
    {
     "name": "stdout",
     "output_type": "stream",
     "text": [
      "Number of documents: 5886\n",
      "Number of unique tokens: 6732\n"
     ]
    }
   ],
   "source": [
    "# get the vocabulary\n",
    "dict_gensim_text=Dictionary(song_data_short['tokenized_lyrics_stopword']) \n",
    "\n",
    "# filter out words that appear in less than 5 documents or more than 70% of the documents\n",
    "dict_gensim_text.filter_extremes(no_below=5,no_above=0.7)\n",
    "\n",
    "# convert the documents into bag of words (list of (token_id, token_count) tuples)\n",
    "song_data_short['bow_gensim_lyrics'] = [dict_gensim_text.doc2bow(text) for text in song_data_short['tokenized_lyrics_stopword']]\n",
    "\n",
    "\n",
    "print('Number of documents: %d' % song_data_short['bow_gensim_lyrics'].count())\n",
    "print('Number of unique tokens: %d' % len(dict_gensim_text))"
   ]
  },
  {
   "cell_type": "markdown",
   "metadata": {},
   "source": [
    "Here are the tokens of the fifth song:"
   ]
  },
  {
   "cell_type": "code",
   "execution_count": 19,
   "metadata": {},
   "outputs": [
    {
     "name": "stdout",
     "output_type": "stream",
     "text": [
      "['stood', 'talked', 'like', 'looked', 'way', 't', 'remember', 'clothes', 'wearing', 'clothes', 'wore', 'smile', 'smiling', 'smiling', 't', 'remember', 'things', 'happen', 'time', 'happening', 'met', 'laughed', 'loved', 'knows']\n"
     ]
    }
   ],
   "source": [
    "print(song_data_short['tokenized_lyrics_stopword'][120])"
   ]
  },
  {
   "cell_type": "markdown",
   "metadata": {},
   "source": [
    "And here, the bag of word representation:"
   ]
  },
  {
   "cell_type": "code",
   "execution_count": 20,
   "metadata": {},
   "outputs": [
    {
     "data": {
      "text/plain": [
       "[(38, 1),\n",
       " (61, 1),\n",
       " (101, 1),\n",
       " (240, 1),\n",
       " (264, 1),\n",
       " (375, 1),\n",
       " (398, 1),\n",
       " (454, 1),\n",
       " (610, 2),\n",
       " (635, 1),\n",
       " (774, 1),\n",
       " (917, 1),\n",
       " (959, 2),\n",
       " (1419, 1),\n",
       " (1483, 1),\n",
       " (1601, 1),\n",
       " (1644, 1),\n",
       " (1713, 2),\n",
       " (1714, 1)]"
      ]
     },
     "execution_count": 20,
     "metadata": {},
     "output_type": "execute_result"
    }
   ],
   "source": [
    "song_data_short['bow_gensim_lyrics'][120][:50]"
   ]
  },
  {
   "cell_type": "markdown",
   "metadata": {},
   "source": [
    "Overall this process allow us to reprensent quantitatively our textual data. `doc2bow` generates a vector of feature. However, this vector is not semantic like embeddings would be (more like a \"one hot encoding technique\")."
   ]
  },
  {
   "cell_type": "markdown",
   "metadata": {},
   "source": [
    "### step 2a - Compute TF-IDF for the corpus of documents and NMF factorization"
   ]
  },
  {
   "cell_type": "markdown",
   "metadata": {},
   "source": [
    "TF-IDF stands for Term Frequency-Inverse Document Frequency. It's a numerical statistic used to reflect how important a word is to a document in a collection or corpus. Its value increases proportionally to the number of times a word appears in the document, but is offset by the frequency of the word in the corpus, which helps to adjust for the fact that some words appear more frequently in general. \n",
    "\n",
    "In our study, we will aim at creating 5 groups as our data only contains 5 tags with numerous observations.\n"
   ]
  },
  {
   "cell_type": "code",
   "execution_count": 21,
   "metadata": {},
   "outputs": [
    {
     "data": {
      "text/plain": [
       "[(38, 0.18299879163651192),\n",
       " (61, 0.2307080625366493),\n",
       " (101, 0.031051773593192167),\n",
       " (240, 0.045977729505301025),\n",
       " (264, 0.05488698647793115),\n",
       " (375, 0.15921855207657482),\n",
       " (398, 0.13534447685659623),\n",
       " (454, 0.1479117023059984),\n",
       " (610, 0.3616694283585011),\n",
       " (635, 0.15921855207657482),\n",
       " (774, 0.0932784845371266),\n",
       " (917, 0.26206988675686543),\n",
       " (959, 0.2637551468149587),\n",
       " (1419, 0.20772545729768224),\n",
       " (1483, 0.22834260602296302),\n",
       " (1601, 0.26676689875939036),\n",
       " (1644, 0.27379158724170255),\n",
       " (1713, 0.48491932980275043),\n",
       " (1714, 0.24895975474824386)]"
      ]
     },
     "execution_count": 21,
     "metadata": {},
     "output_type": "execute_result"
    }
   ],
   "source": [
    "# We initialize the tf_idf model\n",
    "tfidf_gensim_text = TfidfModel([elem for elem in song_data_short['bow_gensim_lyrics']]) \n",
    "\n",
    "# We apply it to the bow data\n",
    "song_data_short['vector_gensim_lyrics'] = tfidf_gensim_text[song_data_short['bow_gensim_lyrics']]\n",
    "\n",
    "song_data_short['vector_gensim_lyrics'][120][:50]"
   ]
  },
  {
   "cell_type": "markdown",
   "metadata": {},
   "source": [
    "As we can see above, we now have a score per token for each text. We can now apply the NMF algorithm (non probabilistic matrix descompositon) to \"extract\" topics from the lyrics. With that, we can get the topics and the words that are most representative of each topic (in a quite similar way as we define centroids in unsupervised ML models for quantitative data)."
   ]
  },
  {
   "cell_type": "code",
   "execution_count": 22,
   "metadata": {},
   "outputs": [],
   "source": [
    "nmf_gensim_text = Nmf(song_data_short['vector_gensim_lyrics'],\n",
    "                      num_topics=5,\n",
    "                      id2word=dict_gensim_text,\n",
    "                      kappa=0.1,eval_every=5)"
   ]
  },
  {
   "cell_type": "markdown",
   "metadata": {},
   "source": [
    "### step 2b - LDA "
   ]
  },
  {
   "cell_type": "markdown",
   "metadata": {},
   "source": [
    "Latent Dirichlet Allocation (LDA), is a generative statistical model that allows sets of observations to be explained by unobserved groups that explain why some parts of the data are similar. We can compute it with the following command."
   ]
  },
  {
   "cell_type": "code",
   "execution_count": 23,
   "metadata": {},
   "outputs": [],
   "source": [
    "lda_gensim_text = LdaModel(corpus=song_data_short['bow_gensim_lyrics'],\n",
    "                           id2word = dict_gensim_text,\n",
    "                           chunksize=2000, \n",
    "                           alpha='auto',eta='auto',\n",
    "                           iterations=400,num_topics=5,passes=20,eval_every=None, random_state=1999)"
   ]
  },
  {
   "cell_type": "markdown",
   "metadata": {},
   "source": [
    "### description of the topics"
   ]
  },
  {
   "cell_type": "markdown",
   "metadata": {},
   "source": [
    "We can see below the tokens corresponding to the automatically detected topics."
   ]
  },
  {
   "cell_type": "code",
   "execution_count": 24,
   "metadata": {},
   "outputs": [
    {
     "data": {
      "text/plain": [
       "[(0,\n",
       "  '0.025*\"la\" + 0.016*\"ooh\" + 0.012*\"oh\" + 0.010*\"night\" + 0.009*\"love\" + 0.008*\"little\" + 0.007*\"heart\" + 0.007*\"loving\" + 0.007*\"yeah\" + 0.006*\"sing\"'),\n",
       " (1,\n",
       "  '0.020*\"na\" + 0.012*\"gon\" + 0.011*\"time\" + 0.010*\"dance\" + 0.008*\"believe\" + 0.008*\"wait\" + 0.007*\"babe\" + 0.007*\"ll\" + 0.007*\"woman\" + 0.007*\"don\"'),\n",
       " (2,\n",
       "  '0.007*\"want\" + 0.007*\"yeah\" + 0.006*\"everybody\" + 0.006*\"ve\" + 0.006*\"think\" + 0.006*\"talk\" + 0.006*\"ll\" + 0.006*\"cry\" + 0.006*\"eyes\" + 0.006*\"d\"'),\n",
       " (3,\n",
       "  '0.012*\"oh\" + 0.009*\"want\" + 0.008*\"girl\" + 0.008*\"need\" + 0.007*\"tell\" + 0.006*\"home\" + 0.006*\"little\" + 0.006*\"m\" + 0.006*\"na\" + 0.006*\"night\"'),\n",
       " (4,\n",
       "  '0.018*\"baby\" + 0.014*\"come\" + 0.013*\"_\" + 0.012*\"love\" + 0.010*\"sweet\" + 0.006*\"number\" + 0.005*\"let\" + 0.005*\"shake\" + 0.005*\"wanna\" + 0.005*\"words\"')]"
      ]
     },
     "execution_count": 24,
     "metadata": {},
     "output_type": "execute_result"
    }
   ],
   "source": [
    "nmf_gensim_text.print_topics(num_topics=5,num_words=10)"
   ]
  },
  {
   "cell_type": "code",
   "execution_count": 25,
   "metadata": {},
   "outputs": [
    {
     "data": {
      "text/plain": [
       "[(0,\n",
       "  '0.028*\"yeah\" + 0.027*\"like\" + 0.018*\"got\" + 0.015*\"wanna\" + 0.012*\"come\" + 0.012*\"dance\" + 0.011*\"let\" + 0.011*\"night\" + 0.010*\"ah\" + 0.010*\"rock\"'),\n",
       " (1,\n",
       "  '0.033*\"m\" + 0.028*\"_\" + 0.025*\"like\" + 0.024*\"got\" + 0.017*\"don\" + 0.016*\"ain\" + 0.015*\"number\" + 0.015*\"yeah\" + 0.015*\"know\" + 0.010*\"ya\"'),\n",
       " (2,\n",
       "  '0.102*\"la\" + 0.059*\"da\" + 0.028*\"doo\" + 0.026*\"que\" + 0.021*\"de\" + 0.018*\"ba\" + 0.015*\"y\" + 0.014*\"tu\" + 0.014*\"lo\" + 0.012*\"yo\"'),\n",
       " (3,\n",
       "  '0.045*\"love\" + 0.027*\"don\" + 0.024*\"m\" + 0.023*\"know\" + 0.020*\"ll\" + 0.014*\"ve\" + 0.013*\"time\" + 0.013*\"baby\" + 0.012*\"want\" + 0.011*\"like\"'),\n",
       " (4,\n",
       "  '0.109*\"oh\" + 0.061*\"na\" + 0.047*\"baby\" + 0.038*\"gon\" + 0.027*\"yeah\" + 0.026*\"m\" + 0.025*\"ooh\" + 0.020*\"hey\" + 0.017*\"got\" + 0.017*\"girl\"')]"
      ]
     },
     "execution_count": 25,
     "metadata": {},
     "output_type": "execute_result"
    }
   ],
   "source": [
    "lda_gensim_text.print_topics(num_topics=5,num_words=10)"
   ]
  },
  {
   "cell_type": "markdown",
   "metadata": {},
   "source": [
    "### comparing topics with tags"
   ]
  },
  {
   "cell_type": "markdown",
   "metadata": {},
   "source": [
    "We can now compute which song belongs to each group in order to compare that with our tags: "
   ]
  },
  {
   "cell_type": "code",
   "execution_count": 26,
   "metadata": {},
   "outputs": [],
   "source": [
    "# retrieve the topic for each document from the probability distribution to each topic\n",
    "song_data_short[\"lyrics_topic_lda\"] = song_data_short['bow_gensim_lyrics'].apply(lambda x:sorted(lda_gensim_text.get_document_topics(x), key=lambda x:x[1],reverse=False)[0][0])"
   ]
  },
  {
   "cell_type": "code",
   "execution_count": 27,
   "metadata": {},
   "outputs": [],
   "source": [
    "contingency_table = pd.crosstab(song_data_short['tags'], \n",
    "                                song_data_short['lyrics_topic_lda'])\n",
    "\n",
    "contingency_table_norm = pd.crosstab(song_data_short['tags'], \n",
    "                                     song_data_short['lyrics_topic_lda'], \n",
    "                                     normalize = 'index')"
   ]
  },
  {
   "cell_type": "markdown",
   "metadata": {},
   "source": [
    "We can plot the contigency table to see what type of music is correlated with our groups. "
   ]
  },
  {
   "cell_type": "code",
   "execution_count": 28,
   "metadata": {},
   "outputs": [
    {
     "data": {
      "text/plain": [
       "<matplotlib.legend.Legend at 0x2bb054ce0>"
      ]
     },
     "execution_count": 28,
     "metadata": {},
     "output_type": "execute_result"
    },
    {
     "data": {
      "image/png": "[encoded data removed]",
      "text/plain": [
       "<Figure size 640x480 with 1 Axes>"
      ]
     },
     "metadata": {},
     "output_type": "display_data"
    }
   ],
   "source": [
    "contingency_table_norm.plot(kind='bar', stacked=True)\n",
    "plt.legend(loc='upper left', bbox_to_anchor=(1, 1), title='Category')"
   ]
  },
  {
   "cell_type": "markdown",
   "metadata": {},
   "source": [
    "The relationship between our two variables is actually statistically significant."
   ]
  },
  {
   "cell_type": "code",
   "execution_count": 29,
   "metadata": {},
   "outputs": [
    {
     "name": "stdout",
     "output_type": "stream",
     "text": [
      "Chi-square Statistic : 99.1427654583608, p-value : 1.792713963084509e-12\n"
     ]
    }
   ],
   "source": [
    "chi2, p, dof, expected = chi2_contingency(contingency_table)\n",
    "print(f\"Chi-square Statistic : {chi2}, p-value : {p}\")"
   ]
  },
  {
   "cell_type": "markdown",
   "metadata": {},
   "source": [
    "Although our model cannot separate well the music types, it show some interesting insight and has perceived by itself some of the difference between music in terms of lyrics."
   ]
  },
  {
   "cell_type": "markdown",
   "metadata": {},
   "source": [
    "## 4. Text classification"
   ]
  },
  {
   "cell_type": "markdown",
   "metadata": {},
   "source": [
    "The last part of our project aims at building a supervised predictive model to classify songs into different categories (multiclass case). We have webscrapped some tag data from Genius website that will allow us to have labels. \n",
    "\n",
    "We will test different models on our data and compare them:\n",
    "- Support vector classifier\n",
    "- AdaBoost\n",
    "- XGboost\n",
    "\n",
    "We use the preprocessed data (_cf_ section 1) and split into train and test in order to compare between model (we keep a small sample for test ~ 600 obs.). Within the train data, we will perform cross-validation process in order to select metaparameters.\n",
    "\n",
    "The first step is to work on pure text without any semantic analysis, then we will try to compute embeddings with a BERTlike model."
   ]
  },
  {
   "cell_type": "code",
   "execution_count": 30,
   "metadata": {},
   "outputs": [],
   "source": [
    "X_train, X_test, Y_train, Y_test = train_test_split(song_data_short[\"lyrics_preproc\"],\n",
    "                                                    song_data_short['tags'], \n",
    "                                                    test_size=0.1,\n",
    "                                                    random_state=1999,\n",
    "                                                    stratify=song_data_short['tags'])"
   ]
  },
  {
   "cell_type": "markdown",
   "metadata": {},
   "source": [
    "### classification without semantics"
   ]
  },
  {
   "cell_type": "markdown",
   "metadata": {},
   "source": [
    "#### SVM model"
   ]
  },
  {
   "cell_type": "markdown",
   "metadata": {},
   "source": [
    "We apply a pipeline to transform our training data each time with _tf-idf_ before fit the model in a cross validation setup. Our `grid_search` is not very complete (not so many parameters tested), but we did so in order to speed up the process."
   ]
  },
  {
   "cell_type": "code",
   "execution_count": 33,
   "metadata": {},
   "outputs": [
    {
     "name": "stdout",
     "output_type": "stream",
     "text": [
      "Fitting 3 folds for each of 6 candidates, totalling 18 fits\n",
      "[CV] END .....................svm__C=0.1, svm__kernel=linear; total time=  14.2s\n",
      "[CV] END .....................svm__C=0.1, svm__kernel=linear; total time=  14.1s\n",
      "[CV] END .....................svm__C=0.1, svm__kernel=linear; total time=  14.1s\n",
      "[CV] END ........................svm__C=0.1, svm__kernel=rbf; total time=  17.2s\n",
      "[CV] END ........................svm__C=0.1, svm__kernel=rbf; total time=  16.7s\n",
      "[CV] END ........................svm__C=0.1, svm__kernel=rbf; total time=  16.6s\n",
      "[CV] END .......................svm__C=1, svm__kernel=linear; total time=  13.4s\n",
      "[CV] END .......................svm__C=1, svm__kernel=linear; total time=  13.3s\n",
      "[CV] END .......................svm__C=1, svm__kernel=linear; total time=  13.3s\n",
      "[CV] END ..........................svm__C=1, svm__kernel=rbf; total time=  17.3s\n",
      "[CV] END ..........................svm__C=1, svm__kernel=rbf; total time=  17.3s\n",
      "[CV] END ..........................svm__C=1, svm__kernel=rbf; total time=  17.3s\n",
      "[CV] END ......................svm__C=10, svm__kernel=linear; total time=  14.6s\n",
      "[CV] END ......................svm__C=10, svm__kernel=linear; total time=  14.3s\n",
      "[CV] END ......................svm__C=10, svm__kernel=linear; total time=  14.6s\n",
      "[CV] END .........................svm__C=10, svm__kernel=rbf; total time=  18.4s\n",
      "[CV] END .........................svm__C=10, svm__kernel=rbf; total time=  18.1s\n",
      "[CV] END .........................svm__C=10, svm__kernel=rbf; total time=  18.1s\n"
     ]
    }
   ],
   "source": [
    "pipeline_svm = Pipeline([('tfidf', TfidfVectorizer(min_df=10,ngram_range=(1,2),stop_words='english')),\n",
    "                         ('svm', SVC())])\n",
    "\n",
    "# Define the parameter grid\n",
    "param_grid = {\n",
    "    'svm__C': [0.1, 1, 10],\n",
    "    'svm__kernel': ['linear', 'rbf']\n",
    "}\n",
    "\n",
    "# Perform grid search\n",
    "grid_search = GridSearchCV(pipeline_svm, param_grid, cv=3, verbose=2)\n",
    "grid_search.fit(X_train, Y_train)\n",
    "\n",
    "# Get the best parameters and best score\n",
    "best_params = grid_search.best_params_\n",
    "best_score = grid_search.best_score_\n",
    "\n",
    "# Use the best model for prediction\n",
    "best_model = grid_search.best_estimator_\n",
    "Y_pred = best_model.predict(X_test)"
   ]
  },
  {
   "cell_type": "markdown",
   "metadata": {},
   "source": [
    "We have here the confusion matrix"
   ]
  },
  {
   "cell_type": "code",
   "execution_count": 34,
   "metadata": {},
   "outputs": [
    {
     "data": {
      "text/html": [
       "<div>\n",
       "<style scoped>\n",
       "    .dataframe tbody tr th:only-of-type {\n",
       "        vertical-align: middle;\n",
       "    }\n",
       "\n",
       "    .dataframe tbody tr th {\n",
       "        vertical-align: top;\n",
       "    }\n",
       "\n",
       "    .dataframe thead th {\n",
       "        text-align: right;\n",
       "    }\n",
       "</style>\n",
       "<table border=\"1\" class=\"dataframe\">\n",
       "  <thead>\n",
       "    <tr style=\"text-align: right;\">\n",
       "      <th>Predicted</th>\n",
       "      <th>Country</th>\n",
       "      <th>Pop</th>\n",
       "      <th>R&amp;B</th>\n",
       "      <th>Rap</th>\n",
       "      <th>Rock</th>\n",
       "      <th>All</th>\n",
       "    </tr>\n",
       "    <tr>\n",
       "      <th>True</th>\n",
       "      <th></th>\n",
       "      <th></th>\n",
       "      <th></th>\n",
       "      <th></th>\n",
       "      <th></th>\n",
       "      <th></th>\n",
       "    </tr>\n",
       "  </thead>\n",
       "  <tbody>\n",
       "    <tr>\n",
       "      <th>Country</th>\n",
       "      <td>11</td>\n",
       "      <td>25</td>\n",
       "      <td>2</td>\n",
       "      <td>0</td>\n",
       "      <td>1</td>\n",
       "      <td>39</td>\n",
       "    </tr>\n",
       "    <tr>\n",
       "      <th>Non-Music</th>\n",
       "      <td>0</td>\n",
       "      <td>2</td>\n",
       "      <td>0</td>\n",
       "      <td>0</td>\n",
       "      <td>0</td>\n",
       "      <td>2</td>\n",
       "    </tr>\n",
       "    <tr>\n",
       "      <th>Pop</th>\n",
       "      <td>0</td>\n",
       "      <td>201</td>\n",
       "      <td>22</td>\n",
       "      <td>3</td>\n",
       "      <td>29</td>\n",
       "      <td>255</td>\n",
       "    </tr>\n",
       "    <tr>\n",
       "      <th>R&amp;B</th>\n",
       "      <td>0</td>\n",
       "      <td>85</td>\n",
       "      <td>17</td>\n",
       "      <td>8</td>\n",
       "      <td>4</td>\n",
       "      <td>114</td>\n",
       "    </tr>\n",
       "    <tr>\n",
       "      <th>Rap</th>\n",
       "      <td>0</td>\n",
       "      <td>22</td>\n",
       "      <td>3</td>\n",
       "      <td>30</td>\n",
       "      <td>1</td>\n",
       "      <td>56</td>\n",
       "    </tr>\n",
       "    <tr>\n",
       "      <th>Rock</th>\n",
       "      <td>1</td>\n",
       "      <td>99</td>\n",
       "      <td>5</td>\n",
       "      <td>0</td>\n",
       "      <td>18</td>\n",
       "      <td>123</td>\n",
       "    </tr>\n",
       "    <tr>\n",
       "      <th>All</th>\n",
       "      <td>12</td>\n",
       "      <td>434</td>\n",
       "      <td>49</td>\n",
       "      <td>41</td>\n",
       "      <td>53</td>\n",
       "      <td>589</td>\n",
       "    </tr>\n",
       "  </tbody>\n",
       "</table>\n",
       "</div>"
      ],
      "text/plain": [
       "Predicted  Country  Pop  R&B  Rap  Rock  All\n",
       "True                                        \n",
       "Country         11   25    2    0     1   39\n",
       "Non-Music        0    2    0    0     0    2\n",
       "Pop              0  201   22    3    29  255\n",
       "R&B              0   85   17    8     4  114\n",
       "Rap              0   22    3   30     1   56\n",
       "Rock             1   99    5    0    18  123\n",
       "All             12  434   49   41    53  589"
      ]
     },
     "execution_count": 34,
     "metadata": {},
     "output_type": "execute_result"
    }
   ],
   "source": [
    "pd.crosstab(Y_test, Y_pred, rownames=['True'], colnames=['Predicted'], margins=True)"
   ]
  },
  {
   "cell_type": "code",
   "execution_count": 35,
   "metadata": {},
   "outputs": [
    {
     "name": "stdout",
     "output_type": "stream",
     "text": [
      "SVC best model's accuracy is: 0.47\n",
      "best_params are: {'svm__C': 1, 'svm__kernel': 'linear'}\n"
     ]
    }
   ],
   "source": [
    "svm_accuracy = accuracy_score(Y_test, Y_pred)\n",
    "\n",
    "print(f\"SVC best model's accuracy is: {round(svm_accuracy, 2)}\")\n",
    "print(f\"best_params are: {best_params}\")"
   ]
  },
  {
   "cell_type": "markdown",
   "metadata": {},
   "source": [
    "#### XGBoost"
   ]
  },
  {
   "cell_type": "code",
   "execution_count": 37,
   "metadata": {
    "vscode": {
     "languageId": "javascript"
    }
   },
   "outputs": [
    {
     "name": "stdout",
     "output_type": "stream",
     "text": [
      "Fitting 3 folds for each of 6 candidates, totalling 18 fits\n",
      "[CV] END .....xgb__learning_rate=0.05, xgb__n_estimators=100; total time=  37.4s\n",
      "[CV] END .....xgb__learning_rate=0.05, xgb__n_estimators=100; total time=  34.4s\n",
      "[CV] END .....xgb__learning_rate=0.05, xgb__n_estimators=100; total time=  35.7s\n",
      "[CV] END .....xgb__learning_rate=0.05, xgb__n_estimators=200; total time= 1.0min\n",
      "[CV] END .....xgb__learning_rate=0.05, xgb__n_estimators=200; total time= 1.0min\n",
      "[CV] END .....xgb__learning_rate=0.05, xgb__n_estimators=200; total time= 1.2min\n",
      "[CV] END ......xgb__learning_rate=0.1, xgb__n_estimators=100; total time=  31.3s\n",
      "[CV] END ......xgb__learning_rate=0.1, xgb__n_estimators=100; total time=  30.2s\n",
      "[CV] END ......xgb__learning_rate=0.1, xgb__n_estimators=100; total time=  31.0s\n",
      "[CV] END ......xgb__learning_rate=0.1, xgb__n_estimators=200; total time=  52.8s\n",
      "[CV] END ......xgb__learning_rate=0.1, xgb__n_estimators=200; total time=  53.5s\n",
      "[CV] END ......xgb__learning_rate=0.1, xgb__n_estimators=200; total time=  55.4s\n",
      "[CV] END ......xgb__learning_rate=0.2, xgb__n_estimators=100; total time=  28.0s\n",
      "[CV] END ......xgb__learning_rate=0.2, xgb__n_estimators=100; total time=  26.7s\n",
      "[CV] END ......xgb__learning_rate=0.2, xgb__n_estimators=100; total time=  31.1s\n",
      "[CV] END ......xgb__learning_rate=0.2, xgb__n_estimators=200; total time=  52.9s\n",
      "[CV] END ......xgb__learning_rate=0.2, xgb__n_estimators=200; total time=  47.7s\n",
      "[CV] END ......xgb__learning_rate=0.2, xgb__n_estimators=200; total time=  49.5s\n"
     ]
    }
   ],
   "source": [
    "le = LabelEncoder()\n",
    "Y_train_le = le.fit_transform(Y_train)\n",
    "\n",
    "pipeline_xgb = Pipeline([('tfidf', TfidfVectorizer(min_df=10,ngram_range=(1,2),stop_words='english')),\n",
    "                         ('xgb', XGBClassifier(use_label_encoder=False, eval_metric='mlogloss'))])\n",
    "\n",
    "param_grid = {\n",
    "    'xgb__n_estimators': [100, 200],\n",
    "    'xgb__learning_rate': [0.05, 0.1, 0.2]\n",
    "}\n",
    "\n",
    "grid_search = GridSearchCV(pipeline_xgb, param_grid, cv=3, verbose=2)\n",
    "grid_search.fit(X_train, Y_train_le)\n",
    "\n",
    "best_params = grid_search.best_params_\n",
    "best_score = grid_search.best_score_\n",
    "\n",
    "best_model = grid_search.best_estimator_\n",
    "Y_pred = best_model.predict(X_test)\n",
    "Y_pred = le.inverse_transform(Y_pred)"
   ]
  },
  {
   "cell_type": "code",
   "execution_count": 38,
   "metadata": {},
   "outputs": [
    {
     "data": {
      "text/html": [
       "<div>\n",
       "<style scoped>\n",
       "    .dataframe tbody tr th:only-of-type {\n",
       "        vertical-align: middle;\n",
       "    }\n",
       "\n",
       "    .dataframe tbody tr th {\n",
       "        vertical-align: top;\n",
       "    }\n",
       "\n",
       "    .dataframe thead th {\n",
       "        text-align: right;\n",
       "    }\n",
       "</style>\n",
       "<table border=\"1\" class=\"dataframe\">\n",
       "  <thead>\n",
       "    <tr style=\"text-align: right;\">\n",
       "      <th>Predicted</th>\n",
       "      <th>Country</th>\n",
       "      <th>Pop</th>\n",
       "      <th>R&amp;B</th>\n",
       "      <th>Rap</th>\n",
       "      <th>Rock</th>\n",
       "      <th>All</th>\n",
       "    </tr>\n",
       "    <tr>\n",
       "      <th>True</th>\n",
       "      <th></th>\n",
       "      <th></th>\n",
       "      <th></th>\n",
       "      <th></th>\n",
       "      <th></th>\n",
       "      <th></th>\n",
       "    </tr>\n",
       "  </thead>\n",
       "  <tbody>\n",
       "    <tr>\n",
       "      <th>Country</th>\n",
       "      <td>7</td>\n",
       "      <td>30</td>\n",
       "      <td>0</td>\n",
       "      <td>0</td>\n",
       "      <td>2</td>\n",
       "      <td>39</td>\n",
       "    </tr>\n",
       "    <tr>\n",
       "      <th>Non-Music</th>\n",
       "      <td>0</td>\n",
       "      <td>2</td>\n",
       "      <td>0</td>\n",
       "      <td>0</td>\n",
       "      <td>0</td>\n",
       "      <td>2</td>\n",
       "    </tr>\n",
       "    <tr>\n",
       "      <th>Pop</th>\n",
       "      <td>1</td>\n",
       "      <td>234</td>\n",
       "      <td>8</td>\n",
       "      <td>7</td>\n",
       "      <td>5</td>\n",
       "      <td>255</td>\n",
       "    </tr>\n",
       "    <tr>\n",
       "      <th>R&amp;B</th>\n",
       "      <td>1</td>\n",
       "      <td>77</td>\n",
       "      <td>19</td>\n",
       "      <td>12</td>\n",
       "      <td>5</td>\n",
       "      <td>114</td>\n",
       "    </tr>\n",
       "    <tr>\n",
       "      <th>Rap</th>\n",
       "      <td>0</td>\n",
       "      <td>21</td>\n",
       "      <td>3</td>\n",
       "      <td>32</td>\n",
       "      <td>0</td>\n",
       "      <td>56</td>\n",
       "    </tr>\n",
       "    <tr>\n",
       "      <th>Rock</th>\n",
       "      <td>1</td>\n",
       "      <td>114</td>\n",
       "      <td>2</td>\n",
       "      <td>0</td>\n",
       "      <td>6</td>\n",
       "      <td>123</td>\n",
       "    </tr>\n",
       "    <tr>\n",
       "      <th>All</th>\n",
       "      <td>10</td>\n",
       "      <td>478</td>\n",
       "      <td>32</td>\n",
       "      <td>51</td>\n",
       "      <td>18</td>\n",
       "      <td>589</td>\n",
       "    </tr>\n",
       "  </tbody>\n",
       "</table>\n",
       "</div>"
      ],
      "text/plain": [
       "Predicted  Country  Pop  R&B  Rap  Rock  All\n",
       "True                                        \n",
       "Country          7   30    0    0     2   39\n",
       "Non-Music        0    2    0    0     0    2\n",
       "Pop              1  234    8    7     5  255\n",
       "R&B              1   77   19   12     5  114\n",
       "Rap              0   21    3   32     0   56\n",
       "Rock             1  114    2    0     6  123\n",
       "All             10  478   32   51    18  589"
      ]
     },
     "execution_count": 38,
     "metadata": {},
     "output_type": "execute_result"
    }
   ],
   "source": [
    "pd.crosstab(Y_test, Y_pred, rownames=['True'], colnames=['Predicted'], margins=True)"
   ]
  },
  {
   "cell_type": "code",
   "execution_count": 39,
   "metadata": {},
   "outputs": [
    {
     "name": "stdout",
     "output_type": "stream",
     "text": [
      "XGBoost best model's accuracy is: 0.51\n",
      "best_params are: {'xgb__learning_rate': 0.05, 'xgb__n_estimators': 100}\n"
     ]
    }
   ],
   "source": [
    "xgb_accuracy = accuracy_score(Y_test, Y_pred)\n",
    "\n",
    "print(f\"XGBoost best model's accuracy is: {round(xgb_accuracy, 2)}\")\n",
    "print(f\"best_params are: {best_params}\")"
   ]
  },
  {
   "cell_type": "markdown",
   "metadata": {},
   "source": [
    "#### Adaboost"
   ]
  },
  {
   "cell_type": "code",
   "execution_count": 40,
   "metadata": {},
   "outputs": [
    {
     "name": "stdout",
     "output_type": "stream",
     "text": [
      "Fitting 3 folds for each of 9 candidates, totalling 27 fits\n",
      "[CV] END ......ada__learning_rate=0.01, ada__n_estimators=50; total time=   3.8s\n",
      "[CV] END ......ada__learning_rate=0.01, ada__n_estimators=50; total time=   3.5s\n",
      "[CV] END ......ada__learning_rate=0.01, ada__n_estimators=50; total time=   3.6s\n",
      "[CV] END .....ada__learning_rate=0.01, ada__n_estimators=100; total time=   6.2s\n",
      "[CV] END .....ada__learning_rate=0.01, ada__n_estimators=100; total time=   6.1s\n",
      "[CV] END .....ada__learning_rate=0.01, ada__n_estimators=100; total time=   5.9s\n",
      "[CV] END .....ada__learning_rate=0.01, ada__n_estimators=200; total time=  10.8s\n",
      "[CV] END .....ada__learning_rate=0.01, ada__n_estimators=200; total time=  10.8s\n",
      "[CV] END .....ada__learning_rate=0.01, ada__n_estimators=200; total time=  10.9s\n",
      "[CV] END .......ada__learning_rate=0.1, ada__n_estimators=50; total time=   3.7s\n",
      "[CV] END .......ada__learning_rate=0.1, ada__n_estimators=50; total time=   3.7s\n",
      "[CV] END .......ada__learning_rate=0.1, ada__n_estimators=50; total time=   3.7s\n",
      "[CV] END ......ada__learning_rate=0.1, ada__n_estimators=100; total time=   5.9s\n",
      "[CV] END ......ada__learning_rate=0.1, ada__n_estimators=100; total time=   5.9s\n",
      "[CV] END ......ada__learning_rate=0.1, ada__n_estimators=100; total time=   6.1s\n",
      "[CV] END ......ada__learning_rate=0.1, ada__n_estimators=200; total time=  11.1s\n",
      "[CV] END ......ada__learning_rate=0.1, ada__n_estimators=200; total time=  10.8s\n",
      "[CV] END ......ada__learning_rate=0.1, ada__n_estimators=200; total time=  11.0s\n",
      "[CV] END .........ada__learning_rate=1, ada__n_estimators=50; total time=   3.6s\n",
      "[CV] END .........ada__learning_rate=1, ada__n_estimators=50; total time=   3.6s\n",
      "[CV] END .........ada__learning_rate=1, ada__n_estimators=50; total time=   3.7s\n",
      "[CV] END ........ada__learning_rate=1, ada__n_estimators=100; total time=   6.0s\n",
      "[CV] END ........ada__learning_rate=1, ada__n_estimators=100; total time=   6.1s\n",
      "[CV] END ........ada__learning_rate=1, ada__n_estimators=100; total time=   6.3s\n",
      "[CV] END ........ada__learning_rate=1, ada__n_estimators=200; total time=  10.8s\n",
      "[CV] END ........ada__learning_rate=1, ada__n_estimators=200; total time=  10.6s\n",
      "[CV] END ........ada__learning_rate=1, ada__n_estimators=200; total time=  10.6s\n"
     ]
    }
   ],
   "source": [
    "\n",
    "pipeline_ada = Pipeline([('tfidf', TfidfVectorizer(min_df=10,ngram_range=(1,2),stop_words='english')),\n",
    "                         ('ada', AdaBoostClassifier())])\n",
    "\n",
    "param_grid = {\n",
    "    'ada__n_estimators': [50, 100, 200],\n",
    "    'ada__learning_rate': [0.01, 0.1, 1]\n",
    "}\n",
    "\n",
    "grid_search = GridSearchCV(pipeline_ada, param_grid, cv=3, verbose=2)\n",
    "grid_search.fit(X_train, Y_train)\n",
    "\n",
    "best_params = grid_search.best_params_\n",
    "best_score = grid_search.best_score_\n",
    "\n",
    "best_model = grid_search.best_estimator_\n",
    "Y_pred = best_model.predict(X_test)"
   ]
  },
  {
   "cell_type": "code",
   "execution_count": 41,
   "metadata": {},
   "outputs": [
    {
     "data": {
      "text/html": [
       "<div>\n",
       "<style scoped>\n",
       "    .dataframe tbody tr th:only-of-type {\n",
       "        vertical-align: middle;\n",
       "    }\n",
       "\n",
       "    .dataframe tbody tr th {\n",
       "        vertical-align: top;\n",
       "    }\n",
       "\n",
       "    .dataframe thead th {\n",
       "        text-align: right;\n",
       "    }\n",
       "</style>\n",
       "<table border=\"1\" class=\"dataframe\">\n",
       "  <thead>\n",
       "    <tr style=\"text-align: right;\">\n",
       "      <th>Predicted</th>\n",
       "      <th>Pop</th>\n",
       "      <th>Rap</th>\n",
       "      <th>All</th>\n",
       "    </tr>\n",
       "    <tr>\n",
       "      <th>True</th>\n",
       "      <th></th>\n",
       "      <th></th>\n",
       "      <th></th>\n",
       "    </tr>\n",
       "  </thead>\n",
       "  <tbody>\n",
       "    <tr>\n",
       "      <th>Country</th>\n",
       "      <td>39</td>\n",
       "      <td>0</td>\n",
       "      <td>39</td>\n",
       "    </tr>\n",
       "    <tr>\n",
       "      <th>Non-Music</th>\n",
       "      <td>2</td>\n",
       "      <td>0</td>\n",
       "      <td>2</td>\n",
       "    </tr>\n",
       "    <tr>\n",
       "      <th>Pop</th>\n",
       "      <td>252</td>\n",
       "      <td>3</td>\n",
       "      <td>255</td>\n",
       "    </tr>\n",
       "    <tr>\n",
       "      <th>R&amp;B</th>\n",
       "      <td>107</td>\n",
       "      <td>7</td>\n",
       "      <td>114</td>\n",
       "    </tr>\n",
       "    <tr>\n",
       "      <th>Rap</th>\n",
       "      <td>36</td>\n",
       "      <td>20</td>\n",
       "      <td>56</td>\n",
       "    </tr>\n",
       "    <tr>\n",
       "      <th>Rock</th>\n",
       "      <td>123</td>\n",
       "      <td>0</td>\n",
       "      <td>123</td>\n",
       "    </tr>\n",
       "    <tr>\n",
       "      <th>All</th>\n",
       "      <td>559</td>\n",
       "      <td>30</td>\n",
       "      <td>589</td>\n",
       "    </tr>\n",
       "  </tbody>\n",
       "</table>\n",
       "</div>"
      ],
      "text/plain": [
       "Predicted  Pop  Rap  All\n",
       "True                    \n",
       "Country     39    0   39\n",
       "Non-Music    2    0    2\n",
       "Pop        252    3  255\n",
       "R&B        107    7  114\n",
       "Rap         36   20   56\n",
       "Rock       123    0  123\n",
       "All        559   30  589"
      ]
     },
     "execution_count": 41,
     "metadata": {},
     "output_type": "execute_result"
    }
   ],
   "source": [
    "pd.crosstab(Y_test, Y_pred, rownames=['True'], colnames=['Predicted'], margins=True)"
   ]
  },
  {
   "cell_type": "code",
   "execution_count": 42,
   "metadata": {},
   "outputs": [
    {
     "name": "stdout",
     "output_type": "stream",
     "text": [
      "Adaboost best model's accuracy is: 0.46\n",
      "best_params are: {'ada__learning_rate': 0.01, 'ada__n_estimators': 50}\n"
     ]
    }
   ],
   "source": [
    "ada_accuracy = accuracy_score(Y_test, Y_pred)\n",
    "\n",
    "print(f\"Adaboost best model's accuracy is: {round(ada_accuracy, 2)}\")\n",
    "print(f\"best_params are: {best_params}\")\n"
   ]
  },
  {
   "cell_type": "markdown",
   "metadata": {},
   "source": [
    "### semantic-based classification"
   ]
  },
  {
   "cell_type": "markdown",
   "metadata": {},
   "source": [
    "Various libraries exist to encode words andd sentences into a vectorial space: from the famous Word2Vec to more modern implementation relying on transformers and BERT models, even LLM can be used and tweaked for that purpose.\n",
    "\n",
    "We will use the [`sBERT`](https://www.sbert.net/README.html) library embed our sentences. It is a relatively new library that is able to take sentence level embeddings and as a consequence can describe in a deeper way the meaning of a whole text. It is also fairly easy to implement and quite fast."
   ]
  },
  {
   "cell_type": "markdown",
   "metadata": {},
   "source": [
    "We load the model first (it is the common one for this library but more can be found [here](https://www.sbert.net/docs/pretrained_models.html)). If you use `sBERT`for the first time it will download it from the web."
   ]
  },
  {
   "cell_type": "code",
   "execution_count": 43,
   "metadata": {},
   "outputs": [
    {
     "name": "stderr",
     "output_type": "stream",
     "text": [
      "/Library/Frameworks/Python.framework/Versions/3.12/lib/python3.12/site-packages/transformers/utils/generic.py:309: UserWarning: torch.utils._pytree._register_pytree_node is deprecated. Please use torch.utils._pytree.register_pytree_node instead.\n",
      "  _torch_pytree._register_pytree_node(\n"
     ]
    }
   ],
   "source": [
    "model = SentenceTransformer(\"all-MiniLM-L6-v2\")"
   ]
  },
  {
   "cell_type": "markdown",
   "metadata": {},
   "source": [
    "#### encoding the lyrics in a vectorial semantic space"
   ]
  },
  {
   "cell_type": "code",
   "execution_count": 44,
   "metadata": {},
   "outputs": [],
   "source": [
    "# encoding and storing variable as a column of our main dataframe\n",
    "song_data_short[\"sBERT_lyrics\"] = song_data_short[\"lyrics_wo_brack\"].apply(lambda x: model.encode(x))\n",
    "\n",
    "# expanding the column into a dataframe\n",
    "song_data_short_sBERT = pd.DataFrame.from_dict(dict(zip(song_data_short[\"sBERT_lyrics\"].index, \n",
    "                                                        song_data_short[\"sBERT_lyrics\"].values)), \n",
    "                                               orient=\"index\")\n",
    "song_data_short_sBERT[\"tags\"] = song_data_short[\"tags\"]"
   ]
  },
  {
   "cell_type": "markdown",
   "metadata": {},
   "source": [
    "An example of encoding:"
   ]
  },
  {
   "cell_type": "code",
   "execution_count": 45,
   "metadata": {},
   "outputs": [
    {
     "data": {
      "text/plain": [
       "\"It seems we stood and talked like this before We looked at each other in the same way then But I can't remember where or when The clothes you're wearing are the clothes you wore The smile you are smiling you were smiling then But I can't remember where or when Some things that happen for the first time Seem to be happening again And so it seems that we have met before And laughed before And loved before But who knows where or when\""
      ]
     },
     "execution_count": 45,
     "metadata": {},
     "output_type": "execute_result"
    }
   ],
   "source": [
    "song_data_short[\"lyrics\"][120]"
   ]
  },
  {
   "cell_type": "code",
   "execution_count": 46,
   "metadata": {},
   "outputs": [
    {
     "data": {
      "text/plain": [
       "array([-0.02488167,  0.01061767,  0.06421887,  0.08184147,  0.03567021,\n",
       "        0.01955756,  0.04515632, -0.03197615,  0.086255  , -0.12256549,\n",
       "        0.05114371,  0.01028266, -0.01197225, -0.00239186,  0.06221913,\n",
       "       -0.03995189,  0.01014217, -0.00157251, -0.02969894, -0.00212632,\n",
       "        0.06855954, -0.01122449, -0.01885332, -0.03223357,  0.01890959,\n",
       "       -0.02689635,  0.02023942,  0.00801447,  0.06778741, -0.01630813,\n",
       "        0.04423043, -0.04091485,  0.07488046,  0.09111501, -0.08707669,\n",
       "        0.01443066,  0.04598852, -0.02119379,  0.00860582, -0.00334704,\n",
       "       -0.10394209, -0.04692344, -0.05057114, -0.0177826 , -0.01346496,\n",
       "        0.05180211,  0.09301236,  0.05014472,  0.01263345,  0.03074255],\n",
       "      dtype=float32)"
      ]
     },
     "execution_count": 46,
     "metadata": {},
     "output_type": "execute_result"
    }
   ],
   "source": [
    "song_data_short[\"sBERT_lyrics\"][120][:50]"
   ]
  },
  {
   "cell_type": "markdown",
   "metadata": {},
   "source": [
    "We split one again our data (the random seed allow us to keep exactly the same subsets)?"
   ]
  },
  {
   "cell_type": "code",
   "execution_count": 47,
   "metadata": {},
   "outputs": [],
   "source": [
    "X_train, X_test, Y_train, Y_test = train_test_split(song_data_short_sBERT.drop(columns=\"tags\"),\n",
    "                                                    song_data_short_sBERT['tags'], \n",
    "                                                    test_size=0.1,\n",
    "                                                    random_state=1999,\n",
    "                                                    stratify=song_data_short_sBERT['tags'])"
   ]
  },
  {
   "cell_type": "markdown",
   "metadata": {},
   "source": [
    "#### SVC"
   ]
  },
  {
   "cell_type": "code",
   "execution_count": 48,
   "metadata": {},
   "outputs": [
    {
     "name": "stdout",
     "output_type": "stream",
     "text": [
      "Fitting 3 folds for each of 6 candidates, totalling 18 fits\n",
      "[CV] END ...............................C=0.1, kernel=linear; total time=   5.6s\n",
      "[CV] END ...............................C=0.1, kernel=linear; total time=   5.3s\n",
      "[CV] END ...............................C=0.1, kernel=linear; total time=   5.4s\n",
      "[CV] END ..................................C=0.1, kernel=rbf; total time=   7.2s\n",
      "[CV] END ..................................C=0.1, kernel=rbf; total time=   7.8s\n",
      "[CV] END ..................................C=0.1, kernel=rbf; total time=   7.2s\n",
      "[CV] END .................................C=1, kernel=linear; total time=   5.1s\n",
      "[CV] END .................................C=1, kernel=linear; total time=   5.0s\n",
      "[CV] END .................................C=1, kernel=linear; total time=   5.1s\n",
      "[CV] END ....................................C=1, kernel=rbf; total time=   7.0s\n",
      "[CV] END ....................................C=1, kernel=rbf; total time=   7.0s\n",
      "[CV] END ....................................C=1, kernel=rbf; total time=   7.0s\n",
      "[CV] END ................................C=10, kernel=linear; total time=   5.4s\n",
      "[CV] END ................................C=10, kernel=linear; total time=   5.4s\n",
      "[CV] END ................................C=10, kernel=linear; total time=   5.7s\n",
      "[CV] END ...................................C=10, kernel=rbf; total time=   8.5s\n",
      "[CV] END ...................................C=10, kernel=rbf; total time=   8.5s\n",
      "[CV] END ...................................C=10, kernel=rbf; total time=   8.5s\n"
     ]
    }
   ],
   "source": [
    "svc = SVC()\n",
    "\n",
    "param_grid = {\n",
    "    'C': [0.1, 1, 10],\n",
    "    'kernel': ['linear', 'rbf']\n",
    "}\n",
    "\n",
    "grid_search = GridSearchCV(estimator=svc, param_grid=param_grid, cv=3, verbose=2)\n",
    "\n",
    "grid_search.fit(X_train, Y_train)\n",
    "\n",
    "best_params = grid_search.best_params_\n",
    "best_score = grid_search.best_score_\n",
    "\n",
    "best_model = grid_search.best_estimator_\n",
    "Y_pred = best_model.predict(X_test)"
   ]
  },
  {
   "cell_type": "code",
   "execution_count": 49,
   "metadata": {},
   "outputs": [],
   "source": [
    "Y_pred2 = best_model.predict(X_test)"
   ]
  },
  {
   "cell_type": "code",
   "execution_count": 50,
   "metadata": {},
   "outputs": [
    {
     "data": {
      "text/html": [
       "<div>\n",
       "<style scoped>\n",
       "    .dataframe tbody tr th:only-of-type {\n",
       "        vertical-align: middle;\n",
       "    }\n",
       "\n",
       "    .dataframe tbody tr th {\n",
       "        vertical-align: top;\n",
       "    }\n",
       "\n",
       "    .dataframe thead th {\n",
       "        text-align: right;\n",
       "    }\n",
       "</style>\n",
       "<table border=\"1\" class=\"dataframe\">\n",
       "  <thead>\n",
       "    <tr style=\"text-align: right;\">\n",
       "      <th>Predicted</th>\n",
       "      <th>Country</th>\n",
       "      <th>Pop</th>\n",
       "      <th>R&amp;B</th>\n",
       "      <th>Rap</th>\n",
       "      <th>Rock</th>\n",
       "      <th>All</th>\n",
       "    </tr>\n",
       "    <tr>\n",
       "      <th>True</th>\n",
       "      <th></th>\n",
       "      <th></th>\n",
       "      <th></th>\n",
       "      <th></th>\n",
       "      <th></th>\n",
       "      <th></th>\n",
       "    </tr>\n",
       "  </thead>\n",
       "  <tbody>\n",
       "    <tr>\n",
       "      <th>Country</th>\n",
       "      <td>11</td>\n",
       "      <td>27</td>\n",
       "      <td>0</td>\n",
       "      <td>0</td>\n",
       "      <td>1</td>\n",
       "      <td>39</td>\n",
       "    </tr>\n",
       "    <tr>\n",
       "      <th>Non-Music</th>\n",
       "      <td>0</td>\n",
       "      <td>2</td>\n",
       "      <td>0</td>\n",
       "      <td>0</td>\n",
       "      <td>0</td>\n",
       "      <td>2</td>\n",
       "    </tr>\n",
       "    <tr>\n",
       "      <th>Pop</th>\n",
       "      <td>0</td>\n",
       "      <td>239</td>\n",
       "      <td>5</td>\n",
       "      <td>6</td>\n",
       "      <td>5</td>\n",
       "      <td>255</td>\n",
       "    </tr>\n",
       "    <tr>\n",
       "      <th>R&amp;B</th>\n",
       "      <td>0</td>\n",
       "      <td>100</td>\n",
       "      <td>1</td>\n",
       "      <td>12</td>\n",
       "      <td>1</td>\n",
       "      <td>114</td>\n",
       "    </tr>\n",
       "    <tr>\n",
       "      <th>Rap</th>\n",
       "      <td>0</td>\n",
       "      <td>24</td>\n",
       "      <td>1</td>\n",
       "      <td>31</td>\n",
       "      <td>0</td>\n",
       "      <td>56</td>\n",
       "    </tr>\n",
       "    <tr>\n",
       "      <th>Rock</th>\n",
       "      <td>2</td>\n",
       "      <td>109</td>\n",
       "      <td>1</td>\n",
       "      <td>0</td>\n",
       "      <td>11</td>\n",
       "      <td>123</td>\n",
       "    </tr>\n",
       "    <tr>\n",
       "      <th>All</th>\n",
       "      <td>13</td>\n",
       "      <td>501</td>\n",
       "      <td>8</td>\n",
       "      <td>49</td>\n",
       "      <td>18</td>\n",
       "      <td>589</td>\n",
       "    </tr>\n",
       "  </tbody>\n",
       "</table>\n",
       "</div>"
      ],
      "text/plain": [
       "Predicted  Country  Pop  R&B  Rap  Rock  All\n",
       "True                                        \n",
       "Country         11   27    0    0     1   39\n",
       "Non-Music        0    2    0    0     0    2\n",
       "Pop              0  239    5    6     5  255\n",
       "R&B              0  100    1   12     1  114\n",
       "Rap              0   24    1   31     0   56\n",
       "Rock             2  109    1    0    11  123\n",
       "All             13  501    8   49    18  589"
      ]
     },
     "execution_count": 50,
     "metadata": {},
     "output_type": "execute_result"
    }
   ],
   "source": [
    "pd.crosstab(Y_test, Y_pred, rownames=['True'], colnames=['Predicted'], margins=True)"
   ]
  },
  {
   "cell_type": "code",
   "execution_count": 51,
   "metadata": {},
   "outputs": [
    {
     "name": "stdout",
     "output_type": "stream",
     "text": [
      "Semantic SVC best model's accuracy is: 0.497\n"
     ]
    }
   ],
   "source": [
    "svm_sem_accuracy = accuracy_score(Y_test, Y_pred)\n",
    "\n",
    "print(f\"Semantic SVC best model's accuracy is: {round(svm_sem_accuracy, 3)}\")"
   ]
  },
  {
   "cell_type": "markdown",
   "metadata": {},
   "source": [
    "#### XGboost"
   ]
  },
  {
   "cell_type": "code",
   "execution_count": 53,
   "metadata": {},
   "outputs": [
    {
     "name": "stdout",
     "output_type": "stream",
     "text": [
      "Fitting 3 folds for each of 6 candidates, totalling 18 fits\n",
      "[CV] END ...............learning_rate=0.05, n_estimators=100; total time=  35.5s\n",
      "[CV] END ...............learning_rate=0.05, n_estimators=100; total time=  25.1s\n",
      "[CV] END ...............learning_rate=0.05, n_estimators=100; total time=  25.0s\n",
      "[CV] END ...............learning_rate=0.05, n_estimators=200; total time=  45.0s\n",
      "[CV] END ...............learning_rate=0.05, n_estimators=200; total time=  45.2s\n",
      "[CV] END ...............learning_rate=0.05, n_estimators=200; total time=  47.9s\n",
      "[CV] END ................learning_rate=0.1, n_estimators=100; total time=  25.4s\n",
      "[CV] END ................learning_rate=0.1, n_estimators=100; total time=  22.7s\n",
      "[CV] END ................learning_rate=0.1, n_estimators=100; total time=  23.2s\n",
      "[CV] END ................learning_rate=0.1, n_estimators=200; total time=  42.0s\n",
      "[CV] END ................learning_rate=0.1, n_estimators=200; total time=  41.0s\n",
      "[CV] END ................learning_rate=0.1, n_estimators=200; total time=  42.1s\n",
      "[CV] END ................learning_rate=0.2, n_estimators=100; total time=  21.2s\n",
      "[CV] END ................learning_rate=0.2, n_estimators=100; total time=  21.2s\n",
      "[CV] END ................learning_rate=0.2, n_estimators=100; total time=  20.9s\n",
      "[CV] END ................learning_rate=0.2, n_estimators=200; total time=  36.6s\n",
      "[CV] END ................learning_rate=0.2, n_estimators=200; total time=  36.1s\n",
      "[CV] END ................learning_rate=0.2, n_estimators=200; total time=  37.9s\n"
     ]
    }
   ],
   "source": [
    "xgb = XGBClassifier(use_label_encoder=False, eval_metric='mlogloss')\n",
    "\n",
    "param_grid = {\n",
    "    'n_estimators': [100, 200],\n",
    "    'learning_rate': [0.05, 0.1, 0.2]\n",
    "}\n",
    "\n",
    "le = LabelEncoder()\n",
    "Y_train_le = le.fit_transform(Y_train)\n",
    "\n",
    "grid_search = GridSearchCV(xgb, param_grid, cv=3, verbose=2)\n",
    "grid_search.fit(X_train, Y_train_le)\n",
    "\n",
    "best_params = grid_search.best_params_\n",
    "best_score = grid_search.best_score_\n",
    "\n",
    "best_model = grid_search.best_estimator_\n",
    "Y_pred = best_model.predict(X_test)\n",
    "Y_pred = le.inverse_transform(Y_pred)\n"
   ]
  },
  {
   "cell_type": "code",
   "execution_count": 54,
   "metadata": {},
   "outputs": [
    {
     "data": {
      "text/html": [
       "<div>\n",
       "<style scoped>\n",
       "    .dataframe tbody tr th:only-of-type {\n",
       "        vertical-align: middle;\n",
       "    }\n",
       "\n",
       "    .dataframe tbody tr th {\n",
       "        vertical-align: top;\n",
       "    }\n",
       "\n",
       "    .dataframe thead th {\n",
       "        text-align: right;\n",
       "    }\n",
       "</style>\n",
       "<table border=\"1\" class=\"dataframe\">\n",
       "  <thead>\n",
       "    <tr style=\"text-align: right;\">\n",
       "      <th>Predicted</th>\n",
       "      <th>Country</th>\n",
       "      <th>Pop</th>\n",
       "      <th>R&amp;B</th>\n",
       "      <th>Rap</th>\n",
       "      <th>Rock</th>\n",
       "      <th>All</th>\n",
       "    </tr>\n",
       "    <tr>\n",
       "      <th>True</th>\n",
       "      <th></th>\n",
       "      <th></th>\n",
       "      <th></th>\n",
       "      <th></th>\n",
       "      <th></th>\n",
       "      <th></th>\n",
       "    </tr>\n",
       "  </thead>\n",
       "  <tbody>\n",
       "    <tr>\n",
       "      <th>Country</th>\n",
       "      <td>9</td>\n",
       "      <td>29</td>\n",
       "      <td>0</td>\n",
       "      <td>0</td>\n",
       "      <td>1</td>\n",
       "      <td>39</td>\n",
       "    </tr>\n",
       "    <tr>\n",
       "      <th>Non-Music</th>\n",
       "      <td>0</td>\n",
       "      <td>2</td>\n",
       "      <td>0</td>\n",
       "      <td>0</td>\n",
       "      <td>0</td>\n",
       "      <td>2</td>\n",
       "    </tr>\n",
       "    <tr>\n",
       "      <th>Pop</th>\n",
       "      <td>1</td>\n",
       "      <td>210</td>\n",
       "      <td>15</td>\n",
       "      <td>4</td>\n",
       "      <td>25</td>\n",
       "      <td>255</td>\n",
       "    </tr>\n",
       "    <tr>\n",
       "      <th>R&amp;B</th>\n",
       "      <td>0</td>\n",
       "      <td>87</td>\n",
       "      <td>14</td>\n",
       "      <td>8</td>\n",
       "      <td>5</td>\n",
       "      <td>114</td>\n",
       "    </tr>\n",
       "    <tr>\n",
       "      <th>Rap</th>\n",
       "      <td>0</td>\n",
       "      <td>25</td>\n",
       "      <td>3</td>\n",
       "      <td>28</td>\n",
       "      <td>0</td>\n",
       "      <td>56</td>\n",
       "    </tr>\n",
       "    <tr>\n",
       "      <th>Rock</th>\n",
       "      <td>2</td>\n",
       "      <td>96</td>\n",
       "      <td>3</td>\n",
       "      <td>2</td>\n",
       "      <td>20</td>\n",
       "      <td>123</td>\n",
       "    </tr>\n",
       "    <tr>\n",
       "      <th>All</th>\n",
       "      <td>12</td>\n",
       "      <td>449</td>\n",
       "      <td>35</td>\n",
       "      <td>42</td>\n",
       "      <td>51</td>\n",
       "      <td>589</td>\n",
       "    </tr>\n",
       "  </tbody>\n",
       "</table>\n",
       "</div>"
      ],
      "text/plain": [
       "Predicted  Country  Pop  R&B  Rap  Rock  All\n",
       "True                                        \n",
       "Country          9   29    0    0     1   39\n",
       "Non-Music        0    2    0    0     0    2\n",
       "Pop              1  210   15    4    25  255\n",
       "R&B              0   87   14    8     5  114\n",
       "Rap              0   25    3   28     0   56\n",
       "Rock             2   96    3    2    20  123\n",
       "All             12  449   35   42    51  589"
      ]
     },
     "execution_count": 54,
     "metadata": {},
     "output_type": "execute_result"
    }
   ],
   "source": [
    "pd.crosstab(Y_test, Y_pred, rownames=['True'], colnames=['Predicted'], margins=True)"
   ]
  },
  {
   "cell_type": "code",
   "execution_count": 55,
   "metadata": {},
   "outputs": [
    {
     "name": "stdout",
     "output_type": "stream",
     "text": [
      "Semantic XGBoost best model's accuracy is: 0.477\n"
     ]
    }
   ],
   "source": [
    "xgb_sem_accuracy = accuracy_score(Y_test, Y_pred)\n",
    "\n",
    "print(f\"Semantic XGBoost best model's accuracy is: {round(xgb_sem_accuracy, 3)}\")"
   ]
  },
  {
   "cell_type": "markdown",
   "metadata": {},
   "source": [
    "### select our final classification model"
   ]
  },
  {
   "cell_type": "code",
   "execution_count": 56,
   "metadata": {},
   "outputs": [
    {
     "data": {
      "text/html": [
       "<div>\n",
       "<style scoped>\n",
       "    .dataframe tbody tr th:only-of-type {\n",
       "        vertical-align: middle;\n",
       "    }\n",
       "\n",
       "    .dataframe tbody tr th {\n",
       "        vertical-align: top;\n",
       "    }\n",
       "\n",
       "    .dataframe thead th {\n",
       "        text-align: right;\n",
       "    }\n",
       "</style>\n",
       "<table border=\"1\" class=\"dataframe\">\n",
       "  <thead>\n",
       "    <tr style=\"text-align: right;\">\n",
       "      <th></th>\n",
       "      <th>Model</th>\n",
       "      <th>Accuracy</th>\n",
       "    </tr>\n",
       "  </thead>\n",
       "  <tbody>\n",
       "    <tr>\n",
       "      <th>0</th>\n",
       "      <td>SVM</td>\n",
       "      <td>0.470289</td>\n",
       "    </tr>\n",
       "    <tr>\n",
       "      <th>1</th>\n",
       "      <td>AdaBoost</td>\n",
       "      <td>0.461800</td>\n",
       "    </tr>\n",
       "    <tr>\n",
       "      <th>2</th>\n",
       "      <td>XGBoost</td>\n",
       "      <td>0.505942</td>\n",
       "    </tr>\n",
       "    <tr>\n",
       "      <th>3</th>\n",
       "      <td>SVM semantics</td>\n",
       "      <td>0.497453</td>\n",
       "    </tr>\n",
       "    <tr>\n",
       "      <th>4</th>\n",
       "      <td>XGBoost semantics</td>\n",
       "      <td>0.477080</td>\n",
       "    </tr>\n",
       "  </tbody>\n",
       "</table>\n",
       "</div>"
      ],
      "text/plain": [
       "               Model  Accuracy\n",
       "0                SVM  0.470289\n",
       "1           AdaBoost  0.461800\n",
       "2            XGBoost  0.505942\n",
       "3      SVM semantics  0.497453\n",
       "4  XGBoost semantics  0.477080"
      ]
     },
     "execution_count": 56,
     "metadata": {},
     "output_type": "execute_result"
    }
   ],
   "source": [
    "sumary_models = {\n",
    "    'Model': ['SVM', 'AdaBoost', 'XGBoost', 'SVM semantics', 'XGBoost semantics'],\n",
    "    'Accuracy': [svm_accuracy, ada_accuracy, xgb_accuracy, svm_sem_accuracy, xgb_sem_accuracy]\n",
    "}\n",
    "\n",
    "pd.DataFrame(sumary_models)"
   ]
  }
 ],
 "metadata": {
  "kernelspec": {
   "display_name": "Python 3",
   "language": "python",
   "name": "python3"
  },
  "language_info": {
   "codemirror_mode": {
    "name": "ipython",
    "version": 3
   },
   "file_extension": ".py",
   "mimetype": "text/x-python",
   "name": "python",
   "nbconvert_exporter": "python",
   "pygments_lexer": "ipython3",
   "version": "3.12.0"
  }
 },
 "nbformat": 4,
 "nbformat_minor": 2
}
